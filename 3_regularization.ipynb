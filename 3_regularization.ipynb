{
 "cells": [
  {
   "cell_type": "markdown",
   "metadata": {
    "colab_type": "text",
    "id": "kR-4eNdK6lYS"
   },
   "source": [
    "Deep Learning\n",
    "=============\n",
    "\n",
    "Assignment 3\n",
    "------------\n",
    "\n",
    "Previously in `2_fullyconnected.ipynb`, you trained a logistic regression and a neural network model.\n",
    "\n",
    "The goal of this assignment is to explore regularization techniques."
   ]
  },
  {
   "cell_type": "code",
   "execution_count": 1,
   "metadata": {
    "cellView": "both",
    "colab": {
     "autoexec": {
      "startup": false,
      "wait_interval": 0
     }
    },
    "colab_type": "code",
    "collapsed": true,
    "id": "JLpLa8Jt7Vu4"
   },
   "outputs": [],
   "source": [
    "# These are all the modules we'll be using later. Make sure you can import them\n",
    "# before proceeding further.\n",
    "from __future__ import print_function\n",
    "import numpy as np\n",
    "import tensorflow as tf\n",
    "from six.moves import cPickle as pickle"
   ]
  },
  {
   "cell_type": "markdown",
   "metadata": {
    "colab_type": "text",
    "id": "1HrCK6e17WzV"
   },
   "source": [
    "First reload the data we generated in `1_notmnist.ipynb`."
   ]
  },
  {
   "cell_type": "code",
   "execution_count": 2,
   "metadata": {
    "cellView": "both",
    "colab": {
     "autoexec": {
      "startup": false,
      "wait_interval": 0
     },
     "output_extras": [
      {
       "item_id": 1
      }
     ]
    },
    "colab_type": "code",
    "executionInfo": {
     "elapsed": 11777,
     "status": "ok",
     "timestamp": 1449849322348,
     "user": {
      "color": "",
      "displayName": "",
      "isAnonymous": false,
      "isMe": true,
      "permissionId": "",
      "photoUrl": "",
      "sessionId": "0",
      "userId": ""
     },
     "user_tz": 480
    },
    "id": "y3-cj1bpmuxc",
    "outputId": "e03576f1-ebbe-4838-c388-f1777bcc9873"
   },
   "outputs": [
    {
     "name": "stdout",
     "output_type": "stream",
     "text": [
      "Training set (200000, 28, 28) (200000,)\n",
      "Validation set (10000, 28, 28) (10000,)\n",
      "Test set (10000, 28, 28) (10000,)\n"
     ]
    }
   ],
   "source": [
    "pickle_file = 'notMNIST.pickle'\n",
    "\n",
    "with open(pickle_file, 'rb') as f:\n",
    "  save = pickle.load(f)\n",
    "  train_dataset = save['train_dataset']\n",
    "  train_labels = save['train_labels']\n",
    "  valid_dataset = save['valid_dataset']\n",
    "  valid_labels = save['valid_labels']\n",
    "  test_dataset = save['test_dataset']\n",
    "  test_labels = save['test_labels']\n",
    "  del save  # hint to help gc free up memory\n",
    "  print('Training set', train_dataset.shape, train_labels.shape)\n",
    "  print('Validation set', valid_dataset.shape, valid_labels.shape)\n",
    "  print('Test set', test_dataset.shape, test_labels.shape)"
   ]
  },
  {
   "cell_type": "markdown",
   "metadata": {
    "colab_type": "text",
    "id": "L7aHrm6nGDMB"
   },
   "source": [
    "Reformat into a shape that's more adapted to the models we're going to train:\n",
    "- data as a flat matrix,\n",
    "- labels as float 1-hot encodings."
   ]
  },
  {
   "cell_type": "code",
   "execution_count": 3,
   "metadata": {
    "cellView": "both",
    "colab": {
     "autoexec": {
      "startup": false,
      "wait_interval": 0
     },
     "output_extras": [
      {
       "item_id": 1
      }
     ]
    },
    "colab_type": "code",
    "executionInfo": {
     "elapsed": 11728,
     "status": "ok",
     "timestamp": 1449849322356,
     "user": {
      "color": "",
      "displayName": "",
      "isAnonymous": false,
      "isMe": true,
      "permissionId": "",
      "photoUrl": "",
      "sessionId": "0",
      "userId": ""
     },
     "user_tz": 480
    },
    "id": "IRSyYiIIGIzS",
    "outputId": "3f8996ee-3574-4f44-c953-5c8a04636582"
   },
   "outputs": [
    {
     "name": "stdout",
     "output_type": "stream",
     "text": [
      "Training set (200000, 784) (200000, 10)\n",
      "Validation set (10000, 784) (10000, 10)\n",
      "Test set (10000, 784) (10000, 10)\n"
     ]
    }
   ],
   "source": [
    "image_size = 28\n",
    "num_labels = 10\n",
    "\n",
    "def reformat(dataset, labels):\n",
    "  dataset = dataset.reshape((-1, image_size * image_size)).astype(np.float32)\n",
    "  # Map 1 to [0.0, 1.0, 0.0 ...], 2 to [0.0, 0.0, 1.0 ...]\n",
    "  labels = (np.arange(num_labels) == labels[:,None]).astype(np.float32)\n",
    "  return dataset, labels\n",
    "train_dataset, train_labels = reformat(train_dataset, train_labels)\n",
    "valid_dataset, valid_labels = reformat(valid_dataset, valid_labels)\n",
    "test_dataset, test_labels = reformat(test_dataset, test_labels)\n",
    "print('Training set', train_dataset.shape, train_labels.shape)\n",
    "print('Validation set', valid_dataset.shape, valid_labels.shape)\n",
    "print('Test set', test_dataset.shape, test_labels.shape)"
   ]
  },
  {
   "cell_type": "code",
   "execution_count": 4,
   "metadata": {
    "cellView": "both",
    "colab": {
     "autoexec": {
      "startup": false,
      "wait_interval": 0
     }
    },
    "colab_type": "code",
    "collapsed": true,
    "id": "RajPLaL_ZW6w"
   },
   "outputs": [],
   "source": [
    "def accuracy(predictions, labels):\n",
    "  return (100.0 * np.sum(np.argmax(predictions, 1) == np.argmax(labels, 1))\n",
    "          / predictions.shape[0])"
   ]
  },
  {
   "cell_type": "markdown",
   "metadata": {
    "colab_type": "text",
    "id": "sgLbUAQ1CW-1"
   },
   "source": [
    "---\n",
    "Problem 1\n",
    "---------\n",
    "\n",
    "Introduce and tune L2 regularization for both logistic and neural network models. Remember that L2 amounts to adding a penalty on the norm of the weights to the loss. In TensorFlow, you can compute the L2 loss for a tensor `t` using `nn.l2_loss(t)`. The right amount of regularization should improve your validation / test accuracy.\n",
    "\n",
    "---"
   ]
  },
  {
   "cell_type": "code",
   "execution_count": 16,
   "metadata": {},
   "outputs": [],
   "source": [
    "#logistics model with SGD + L2 \n",
    "def run_logistics_sgd_l2(batch_size, beta, num_steps):\n",
    "    graph_logistics_sgd_l2 = tf.Graph()\n",
    "    with graph_logistics_sgd_l2.as_default():\n",
    "\n",
    "      # Input data. For the training data, we use a placeholder that will be fed\n",
    "      # at run time with a training minibatch.\n",
    "      tf_train_dataset = tf.placeholder(tf.float32,\n",
    "                                        shape=(batch_size, image_size * image_size))\n",
    "      tf_train_labels = tf.placeholder(tf.float32, shape=(batch_size, num_labels))\n",
    "      tf_valid_dataset = tf.constant(valid_dataset)\n",
    "      tf_test_dataset = tf.constant(test_dataset)\n",
    "\n",
    "      # Variables.\n",
    "      weights = tf.Variable(\n",
    "        tf.truncated_normal([image_size * image_size, num_labels]))\n",
    "      biases = tf.Variable(tf.zeros([num_labels]))\n",
    "\n",
    "      # Training computation.\n",
    "      logits = tf.matmul(tf_train_dataset, weights) + biases\n",
    "      loss = tf.reduce_mean(\n",
    "        tf.nn.softmax_cross_entropy_with_logits(labels=tf_train_labels, logits=logits)) + tf.nn.l2_loss(weights) * beta\n",
    "\n",
    "      # Optimizer.\n",
    "      optimizer = tf.train.GradientDescentOptimizer(0.5).minimize(loss)\n",
    "\n",
    "      # Predictions for the training, validation, and test data.\n",
    "      train_prediction = tf.nn.softmax(logits)\n",
    "      valid_prediction = tf.nn.softmax(\n",
    "        tf.matmul(tf_valid_dataset, weights) + biases)\n",
    "      test_prediction = tf.nn.softmax(tf.matmul(tf_test_dataset, weights) + biases)\n",
    "\n",
    "\n",
    "    # run it\n",
    "\n",
    "    with tf.Session(graph=graph_logistics_sgd_l2) as session:\n",
    "      tf.global_variables_initializer().run()\n",
    "      print(\"Initialized\")\n",
    "      for step in range(num_steps):\n",
    "        # Pick an offset within the training data, which has been randomized.\n",
    "        # Note: we could use better randomization across epochs.\n",
    "        offset = (step * batch_size) % (train_labels.shape[0] - batch_size)\n",
    "        # Generate a minibatch.\n",
    "        batch_data = train_dataset[offset:(offset + batch_size), :]\n",
    "        batch_labels = train_labels[offset:(offset + batch_size), :]\n",
    "        # Prepare a dictionary telling the session where to feed the minibatch.\n",
    "        # The key of the dictionary is the placeholder node of the graph to be fed,\n",
    "        # and the value is the numpy array to feed to it.\n",
    "        feed_dict = {tf_train_dataset : batch_data, tf_train_labels : batch_labels}\n",
    "        _, l, predictions = session.run(\n",
    "          [optimizer, loss, train_prediction], feed_dict=feed_dict)\n",
    "        if (step % 500 == 0):\n",
    "          print(\"Minibatch loss at step %d: %f\" % (step, l))\n",
    "          print(\"Minibatch accuracy: %.1f%%\" % accuracy(predictions, batch_labels))\n",
    "          print(\"Validation accuracy: %.1f%%\" % accuracy(\n",
    "            valid_prediction.eval(), valid_labels))\n",
    "      print(\"Test accuracy: %.1f%%\" % accuracy(test_prediction.eval(), test_labels))\n"
   ]
  },
  {
   "cell_type": "code",
   "execution_count": 17,
   "metadata": {},
   "outputs": [
    {
     "name": "stdout",
     "output_type": "stream",
     "text": [
      "Initialized\n",
      "Minibatch loss at step 0: 44.298759\n",
      "Minibatch accuracy: 14.8%\n",
      "Validation accuracy: 13.8%\n",
      "Minibatch loss at step 500: 0.727485\n",
      "Minibatch accuracy: 87.5%\n",
      "Validation accuracy: 81.4%\n",
      "Minibatch loss at step 1000: 0.800813\n",
      "Minibatch accuracy: 80.5%\n",
      "Validation accuracy: 81.3%\n",
      "Minibatch loss at step 1500: 0.566130\n",
      "Minibatch accuracy: 83.6%\n",
      "Validation accuracy: 81.1%\n",
      "Minibatch loss at step 2000: 0.648398\n",
      "Minibatch accuracy: 88.3%\n",
      "Validation accuracy: 81.2%\n",
      "Minibatch loss at step 2500: 0.782503\n",
      "Minibatch accuracy: 78.9%\n",
      "Validation accuracy: 81.1%\n",
      "Minibatch loss at step 3000: 0.784393\n",
      "Minibatch accuracy: 80.5%\n",
      "Validation accuracy: 81.4%\n",
      "Test accuracy: 88.6%\n"
     ]
    }
   ],
   "source": [
    "batch_size = 128\n",
    "beta = 0.01\n",
    "num_steps = 3001\n",
    "\n",
    "run_logistics_sgd_l2(batch_size, beta, num_steps)"
   ]
  },
  {
   "cell_type": "code",
   "execution_count": 43,
   "metadata": {},
   "outputs": [],
   "source": [
    "#neural network with SGD + L2 + dropout\n",
    "\n",
    "def run_nn_sgd_l2(batch_size, beta, num_steps):\n",
    "    run_nn_sgd_l2_dropout(batch_size, beta, num_steps, False)\n",
    "\n",
    "def run_nn_sgd_l2_dropout(batch_size, beta, num_steps, is_dropout=True):\n",
    "    graph_nn = tf.Graph()\n",
    "    with graph_nn.as_default():\n",
    "\n",
    "      # Input data. For the training data, we use a placeholder that will be fed\n",
    "      # at run time with a training minibatch.\n",
    "      tf_train_dataset = tf.placeholder(tf.float32,\n",
    "                                        shape=(batch_size, image_size * image_size))\n",
    "      tf_train_labels = tf.placeholder(tf.float32, shape=(batch_size, num_labels))\n",
    "      tf_valid_dataset = tf.constant(valid_dataset)\n",
    "      tf_test_dataset = tf.constant(test_dataset)\n",
    "\n",
    "      num_hidden_nodes = 1024\n",
    "\n",
    "      # Variables.\n",
    "      weights_i = tf.Variable(\n",
    "        tf.truncated_normal([image_size * image_size, num_hidden_nodes]))\n",
    "      biases_i = tf.Variable(tf.zeros([num_hidden_nodes]))\n",
    "\n",
    "      weights_o = tf.Variable(\n",
    "        tf.truncated_normal([num_hidden_nodes, num_labels]))\n",
    "      biases_o = tf.Variable(tf.zeros([num_labels]))\n",
    "\n",
    "      def forward_prop(ds, w_i, b_i, w_o, b_o):\n",
    "        return tf.matmul(\n",
    "          tf.nn.relu(\n",
    "              tf.matmul(ds, w_i) + b_i\n",
    "          ), w_o) + b_o\n",
    "    \n",
    "      def forward_prop_dropout(ds, w_i, b_i, w_o, b_o):\n",
    "        return tf.matmul(\n",
    "          tf.nn.dropout(\n",
    "              tf.nn.relu(tf.matmul(ds, w_i) + b_i), 0.5\n",
    "          ), w_o\n",
    "        ) + b_o\n",
    "    \n",
    "      # Training computation.\n",
    "      if is_dropout:\n",
    "        logits = forward_prop_dropout(tf_train_dataset, weights_i, biases_i, weights_o, biases_o)\n",
    "      else:\n",
    "        logits = forward_prop(tf_train_dataset, weights_i, biases_i, weights_o, biases_o)\n",
    "\n",
    "      loss = tf.reduce_mean(\n",
    "        tf.nn.softmax_cross_entropy_with_logits(labels=tf_train_labels, logits=logits)) + (beta * (tf.nn.l2_loss(weights_i) + tf.nn.l2_loss(weights_o)))\n",
    "\n",
    "      # Optimizer.\n",
    "      optimizer = tf.train.GradientDescentOptimizer(0.5).minimize(loss)\n",
    "\n",
    "      # Predictions for the training, validation, and test data.\n",
    "      train_prediction = tf.nn.softmax(logits)\n",
    "      valid_prediction = tf.nn.softmax(forward_prop(tf_valid_dataset, weights_i, biases_i, weights_o, biases_o))\n",
    "      test_prediction = tf.nn.softmax(forward_prop(tf_test_dataset, weights_i, biases_i, weights_o, biases_o))\n",
    "\n",
    "\n",
    "    #run it\n",
    "    with tf.Session(graph=graph_nn) as session:\n",
    "      tf.global_variables_initializer().run()\n",
    "      print(\"Initialized\")\n",
    "      for step in range(num_steps):\n",
    "        # Pick an offset within the training data, which has been randomized.\n",
    "        # Note: we could use better randomization across epochs.\n",
    "        offset = (step * batch_size) % (train_labels.shape[0] - batch_size)\n",
    "        # Generate a minibatch.\n",
    "        batch_data = train_dataset[offset:(offset + batch_size), :]\n",
    "        batch_labels = train_labels[offset:(offset + batch_size), :]\n",
    "        # Prepare a dictionary telling the session where to feed the minibatch.\n",
    "        # The key of the dictionary is the placeholder node of the graph to be fed,\n",
    "        # and the value is the numpy array to feed to it.\n",
    "        feed_dict = {tf_train_dataset : batch_data, tf_train_labels : batch_labels}\n",
    "        _, l, predictions = session.run(\n",
    "          [optimizer, loss, train_prediction], feed_dict=feed_dict)\n",
    "        if (step % 500 == 0):\n",
    "          print(\"Minibatch loss at step %d: %f\" % (step, l))\n",
    "          print(\"Minibatch accuracy: %.1f%%\" % accuracy(predictions, batch_labels))\n",
    "          print(\"Validation accuracy: %.1f%%\" % accuracy(\n",
    "            valid_prediction.eval(), valid_labels))\n",
    "      print(\"Test accuracy: %.1f%%\" % accuracy(test_prediction.eval(), test_labels))\n"
   ]
  },
  {
   "cell_type": "code",
   "execution_count": 46,
   "metadata": {},
   "outputs": [
    {
     "name": "stdout",
     "output_type": "stream",
     "text": [
      "Initialized\n",
      "Minibatch loss at step 0: 615.358154\n",
      "Minibatch accuracy: 14.8%\n",
      "Validation accuracy: 29.1%\n",
      "Minibatch loss at step 500: 198.677811\n",
      "Minibatch accuracy: 84.4%\n",
      "Validation accuracy: 79.7%\n",
      "Minibatch loss at step 1000: 114.323944\n",
      "Minibatch accuracy: 80.5%\n",
      "Validation accuracy: 81.3%\n",
      "Minibatch loss at step 1500: 68.371544\n",
      "Minibatch accuracy: 89.1%\n",
      "Validation accuracy: 82.9%\n",
      "Minibatch loss at step 2000: 41.173523\n",
      "Minibatch accuracy: 92.2%\n",
      "Validation accuracy: 84.8%\n",
      "Minibatch loss at step 2500: 25.163031\n",
      "Minibatch accuracy: 91.4%\n",
      "Validation accuracy: 85.8%\n",
      "Minibatch loss at step 3000: 15.476767\n",
      "Minibatch accuracy: 87.5%\n",
      "Validation accuracy: 86.5%\n",
      "Test accuracy: 92.9%\n"
     ]
    }
   ],
   "source": [
    "batch_size = 128\n",
    "beta = 0.001\n",
    "num_steps = 3001\n",
    "\n",
    "run_nn_sgd_l2(batch_size, beta, num_steps)"
   ]
  },
  {
   "cell_type": "markdown",
   "metadata": {
    "colab_type": "text",
    "id": "na8xX2yHZzNF"
   },
   "source": [
    "---\n",
    "Problem 2\n",
    "---------\n",
    "Let's demonstrate an extreme case of overfitting. Restrict your training data to just a few batches. What happens?\n",
    "\n",
    "---"
   ]
  },
  {
   "cell_type": "code",
   "execution_count": 48,
   "metadata": {
    "collapsed": true
   },
   "outputs": [],
   "source": [
    "# with just few batches\n",
    "batch_size = 128\n",
    "beta = 0.001\n",
    "num_steps = 10"
   ]
  },
  {
   "cell_type": "code",
   "execution_count": 49,
   "metadata": {},
   "outputs": [
    {
     "name": "stdout",
     "output_type": "stream",
     "text": [
      "With L2:\n",
      "Initialized\n",
      "Minibatch loss at step 0: 633.617554\n",
      "Minibatch accuracy: 13.3%\n",
      "Validation accuracy: 26.5%\n",
      "Test accuracy: 77.0%\n",
      "\n",
      "\n",
      "Without L2:\n",
      "Initialized\n",
      "Minibatch loss at step 0: 342.237793\n",
      "Minibatch accuracy: 7.0%\n",
      "Validation accuracy: 28.4%\n",
      "Test accuracy: 80.5%\n"
     ]
    }
   ],
   "source": [
    "print('With L2:')\n",
    "run_logistics_sgd_l2(batch_size, beta, num_steps)\n",
    "\n",
    "print('\\n\\nWithout L2:')\n",
    "run_logistics_sgd_l2(batch_size, 0, num_steps)"
   ]
  },
  {
   "cell_type": "code",
   "execution_count": 50,
   "metadata": {},
   "outputs": [
    {
     "name": "stdout",
     "output_type": "stream",
     "text": [
      "With L2:\n",
      "Initialized\n",
      "Minibatch loss at step 0: 682.503235\n",
      "Minibatch accuracy: 8.6%\n",
      "Validation accuracy: 25.2%\n",
      "Test accuracy: 80.1%\n",
      "\n",
      "\n",
      "Without L2:\n",
      "Initialized\n",
      "Minibatch loss at step 0: 424.563721\n",
      "Minibatch accuracy: 10.2%\n",
      "Validation accuracy: 28.6%\n",
      "Test accuracy: 74.1%\n"
     ]
    }
   ],
   "source": [
    "print('With L2:')\n",
    "run_nn_sgd_l2(batch_size, beta, num_steps)\n",
    "\n",
    "print('\\n\\nWithout L2:')\n",
    "run_nn_sgd_l2(batch_size, 0, num_steps)"
   ]
  },
  {
   "cell_type": "markdown",
   "metadata": {
    "colab_type": "text",
    "id": "ww3SCBUdlkRc"
   },
   "source": [
    "---\n",
    "Problem 3\n",
    "---------\n",
    "Introduce Dropout on the hidden layer of the neural network. Remember: Dropout should only be introduced during training, not evaluation, otherwise your evaluation results would be stochastic as well. TensorFlow provides `nn.dropout()` for that, but you have to make sure it's only inserted during training.\n",
    "\n",
    "What happens to our extreme overfitting case?\n",
    "\n",
    "---"
   ]
  },
  {
   "cell_type": "code",
   "execution_count": 45,
   "metadata": {},
   "outputs": [
    {
     "name": "stdout",
     "output_type": "stream",
     "text": [
      "Initialized\n",
      "Minibatch loss at step 0: 775.724243\n",
      "Minibatch accuracy: 9.4%\n",
      "Validation accuracy: 30.2%\n",
      "Minibatch loss at step 500: 210.526810\n",
      "Minibatch accuracy: 75.8%\n",
      "Validation accuracy: 79.4%\n",
      "Minibatch loss at step 1000: 119.015320\n",
      "Minibatch accuracy: 74.2%\n",
      "Validation accuracy: 80.6%\n",
      "Minibatch loss at step 1500: 70.021873\n",
      "Minibatch accuracy: 80.5%\n",
      "Validation accuracy: 81.5%\n",
      "Minibatch loss at step 2000: 41.560383\n",
      "Minibatch accuracy: 84.4%\n",
      "Validation accuracy: 83.5%\n",
      "Minibatch loss at step 2500: 25.321037\n",
      "Minibatch accuracy: 82.0%\n",
      "Validation accuracy: 84.0%\n",
      "Minibatch loss at step 3000: 15.632507\n",
      "Minibatch accuracy: 82.8%\n",
      "Validation accuracy: 85.2%\n",
      "Test accuracy: 91.8%\n"
     ]
    }
   ],
   "source": [
    "batch_size = 128\n",
    "beta = 0.001\n",
    "num_steps = 3001\n",
    "\n",
    "run_nn_sgd_l2_dropout(batch_size, beta, num_steps)"
   ]
  },
  {
   "cell_type": "code",
   "execution_count": 47,
   "metadata": {},
   "outputs": [
    {
     "name": "stdout",
     "output_type": "stream",
     "text": [
      "Initialized\n",
      "Minibatch loss at step 0: 807.790161\n",
      "Minibatch accuracy: 14.1%\n",
      "Validation accuracy: 30.1%\n",
      "Test accuracy: 80.7%\n"
     ]
    }
   ],
   "source": [
    "batch_size = 128\n",
    "beta = 0.001\n",
    "num_steps = 10\n",
    "\n",
    "run_nn_sgd_l2_dropout(batch_size, beta, num_steps)"
   ]
  },
  {
   "cell_type": "markdown",
   "metadata": {
    "colab_type": "text",
    "id": "-b1hTz3VWZjw"
   },
   "source": [
    "---\n",
    "Problem 4\n",
    "---------\n",
    "\n",
    "Try to get the best performance you can using a multi-layer model! The best reported test accuracy using a deep network is [97.1%](http://yaroslavvb.blogspot.com/2011/09/notmnist-dataset.html?showComment=1391023266211#c8758720086795711595).\n",
    "\n",
    "One avenue you can explore is to add multiple layers.\n",
    "\n",
    "Another one is to use learning rate decay:\n",
    "\n",
    "    global_step = tf.Variable(0)  # count the number of steps taken.\n",
    "    learning_rate = tf.train.exponential_decay(0.5, global_step, ...)\n",
    "    optimizer = tf.train.GradientDescentOptimizer(learning_rate).minimize(loss, global_step=global_step)\n",
    " \n",
    " ---\n"
   ]
  },
  {
   "cell_type": "code",
   "execution_count": 195,
   "metadata": {},
   "outputs": [],
   "source": [
    "def run_decay_nn_sgd_l2_dropout(batch_size, beta, num_steps, deacy_steps, decay_rate, is_dropout=True):\n",
    "    graph_nn = tf.Graph()\n",
    "    with graph_nn.as_default():\n",
    "\n",
    "      # Input data. For the training data, we use a placeholder that will be fed\n",
    "      # at run time with a training minibatch.\n",
    "      tf_train_dataset = tf.placeholder(tf.float32,\n",
    "                                        shape=(batch_size, image_size * image_size))\n",
    "      tf_train_labels = tf.placeholder(tf.float32, shape=(batch_size, num_labels))\n",
    "      tf_valid_dataset = tf.constant(valid_dataset)\n",
    "      tf_test_dataset = tf.constant(test_dataset)\n",
    "\n",
    "      num_hidden_nodes = 1024\n",
    "\n",
    "      # Variables.\n",
    "      weights_i = tf.Variable(\n",
    "        tf.truncated_normal([image_size * image_size, num_hidden_nodes]))\n",
    "      biases_i = tf.Variable(tf.zeros([num_hidden_nodes]))\n",
    "\n",
    "      weights_o = tf.Variable(\n",
    "        tf.truncated_normal([num_hidden_nodes, num_labels]))\n",
    "      biases_o = tf.Variable(tf.zeros([num_labels]))\n",
    "\n",
    "      def forward_prop(ds, w_i, b_i, w_o, b_o):\n",
    "        return tf.matmul(\n",
    "          tf.nn.relu(\n",
    "              tf.matmul(ds, w_i) + b_i\n",
    "          ), w_o) + b_o\n",
    "    \n",
    "      def forward_prop_dropout(ds, w_i, b_i, w_o, b_o):\n",
    "        return tf.matmul(\n",
    "          tf.nn.dropout(\n",
    "              tf.nn.relu(tf.matmul(ds, w_i) + b_i), 0.5\n",
    "          ), w_o\n",
    "        ) + b_o\n",
    "    \n",
    "      # Training computation.\n",
    "      if is_dropout:\n",
    "        logits = forward_prop_dropout(tf_train_dataset, weights_i, biases_i, weights_o, biases_o)\n",
    "      else:\n",
    "        logits = forward_prop(tf_train_dataset, weights_i, biases_i, weights_o, biases_o)\n",
    "\n",
    "      loss = tf.reduce_mean(\n",
    "        tf.nn.softmax_cross_entropy_with_logits(labels=tf_train_labels, logits=logits)) + (beta * (tf.nn.l2_loss(weights_i) + tf.nn.l2_loss(weights_o)) / 2)\n",
    "\n",
    "      # Optimizer.\n",
    "      global_step = tf.Variable(0)  # count the number of steps taken.\n",
    "      learning_rate = tf.train.exponential_decay(0.5, global_step, deacy_steps, decay_rate)\n",
    "      optimizer = tf.train.GradientDescentOptimizer(learning_rate).minimize(loss, global_step=global_step)\n",
    "\n",
    "      # Predictions for the training, validation, and test data.\n",
    "      train_prediction = tf.nn.softmax(logits)\n",
    "      valid_prediction = tf.nn.softmax(forward_prop(tf_valid_dataset, weights_i, biases_i, weights_o, biases_o))\n",
    "      test_prediction = tf.nn.softmax(forward_prop(tf_test_dataset, weights_i, biases_i, weights_o, biases_o))\n",
    "\n",
    "\n",
    "    #run it\n",
    "    with tf.Session(graph=graph_nn) as session:\n",
    "      tf.global_variables_initializer().run()\n",
    "      print(\"Initialized\")\n",
    "      for step in range(num_steps):\n",
    "        # Pick an offset within the training data, which has been randomized.\n",
    "        # Note: we could use better randomization across epochs.\n",
    "        offset = (step * batch_size) % (train_labels.shape[0] - batch_size)\n",
    "        # Generate a minibatch.\n",
    "        batch_data = train_dataset[offset:(offset + batch_size), :]\n",
    "        batch_labels = train_labels[offset:(offset + batch_size), :]\n",
    "        # Prepare a dictionary telling the session where to feed the minibatch.\n",
    "        # The key of the dictionary is the placeholder node of the graph to be fed,\n",
    "        # and the value is the numpy array to feed to it.\n",
    "        feed_dict = {tf_train_dataset : batch_data, tf_train_labels : batch_labels}\n",
    "        _, l, predictions = session.run(\n",
    "          [optimizer, loss, train_prediction], feed_dict=feed_dict)\n",
    "        if (step % 500 == 0):\n",
    "          print(\"Minibatch loss at step %d: %f\" % (step, l))\n",
    "          print(\"Minibatch accuracy: %.1f%%\" % accuracy(predictions, batch_labels))\n",
    "          print(\"Validation accuracy: %.1f%%\" % accuracy(\n",
    "            valid_prediction.eval(), valid_labels))\n",
    "      print(\"Test accuracy: %.1f%%\" % accuracy(test_prediction.eval(), test_labels))\n"
   ]
  },
  {
   "cell_type": "code",
   "execution_count": 196,
   "metadata": {},
   "outputs": [
    {
     "name": "stdout",
     "output_type": "stream",
     "text": [
      "Initialized\n",
      "Minibatch loss at step 0: 631.445312\n",
      "Minibatch accuracy: 6.2%\n",
      "Validation accuracy: 28.0%\n",
      "Minibatch loss at step 500: 164.186340\n",
      "Minibatch accuracy: 73.4%\n",
      "Validation accuracy: 78.7%\n",
      "Minibatch loss at step 1000: 102.542458\n",
      "Minibatch accuracy: 71.1%\n",
      "Validation accuracy: 80.2%\n",
      "Minibatch loss at step 1500: 81.062073\n",
      "Minibatch accuracy: 75.8%\n",
      "Validation accuracy: 79.5%\n",
      "Minibatch loss at step 2000: 62.245358\n",
      "Minibatch accuracy: 81.2%\n",
      "Validation accuracy: 81.8%\n",
      "Minibatch loss at step 2500: 51.260117\n",
      "Minibatch accuracy: 79.7%\n",
      "Validation accuracy: 82.3%\n",
      "Minibatch loss at step 3000: 42.208858\n",
      "Minibatch accuracy: 78.9%\n",
      "Validation accuracy: 83.2%\n",
      "Minibatch loss at step 3500: 35.435528\n",
      "Minibatch accuracy: 81.2%\n",
      "Validation accuracy: 83.5%\n",
      "Minibatch loss at step 4000: 29.841913\n",
      "Minibatch accuracy: 85.9%\n",
      "Validation accuracy: 84.1%\n",
      "Minibatch loss at step 4500: 25.390028\n",
      "Minibatch accuracy: 82.8%\n",
      "Validation accuracy: 84.4%\n",
      "Minibatch loss at step 5000: 21.574705\n",
      "Minibatch accuracy: 82.8%\n",
      "Validation accuracy: 84.9%\n",
      "Minibatch loss at step 5500: 18.730621\n",
      "Minibatch accuracy: 81.2%\n",
      "Validation accuracy: 85.0%\n",
      "Minibatch loss at step 6000: 16.406464\n",
      "Minibatch accuracy: 82.8%\n",
      "Validation accuracy: 85.2%\n",
      "Test accuracy: 92.5%\n"
     ]
    }
   ],
   "source": [
    "batch_size = 128\n",
    "beta = 0.001\n",
    "num_steps = 3001 * 2\n",
    "decay_step=500\n",
    "decay_rate=0.95\n",
    "\n",
    "run_decay_nn_sgd_l2_dropout(batch_size, beta, num_steps, decay_step, decay_rate)"
   ]
  },
  {
   "cell_type": "code",
   "execution_count": 63,
   "metadata": {},
   "outputs": [
    {
     "name": "stdout",
     "output_type": "stream",
     "text": [
      "Initialized\n",
      "Minibatch loss at step 0: 821.997986\n",
      "Minibatch accuracy: 7.8%\n",
      "Validation accuracy: 27.5%\n",
      "Minibatch loss at step 500: 216.470398\n",
      "Minibatch accuracy: 73.4%\n",
      "Validation accuracy: 80.1%\n",
      "Minibatch loss at step 1000: 120.009338\n",
      "Minibatch accuracy: 78.1%\n",
      "Validation accuracy: 80.7%\n",
      "Minibatch loss at step 1500: 72.708885\n",
      "Minibatch accuracy: 82.8%\n",
      "Validation accuracy: 81.9%\n",
      "Minibatch loss at step 2000: 45.291584\n",
      "Minibatch accuracy: 84.4%\n",
      "Validation accuracy: 83.5%\n",
      "Minibatch loss at step 2500: 28.534210\n",
      "Minibatch accuracy: 78.9%\n",
      "Validation accuracy: 84.1%\n",
      "Minibatch loss at step 3000: 18.431175\n",
      "Minibatch accuracy: 83.6%\n",
      "Validation accuracy: 85.0%\n",
      "Minibatch loss at step 3500: 12.047112\n",
      "Minibatch accuracy: 84.4%\n",
      "Validation accuracy: 85.9%\n",
      "Minibatch loss at step 4000: 8.007166\n",
      "Minibatch accuracy: 87.5%\n",
      "Validation accuracy: 86.3%\n",
      "Minibatch loss at step 4500: 5.394007\n",
      "Minibatch accuracy: 86.7%\n",
      "Validation accuracy: 86.1%\n",
      "Minibatch loss at step 5000: 3.791618\n",
      "Minibatch accuracy: 85.9%\n",
      "Validation accuracy: 86.6%\n",
      "Minibatch loss at step 5500: 2.863492\n",
      "Minibatch accuracy: 80.5%\n",
      "Validation accuracy: 86.7%\n",
      "Minibatch loss at step 6000: 2.125587\n",
      "Minibatch accuracy: 82.0%\n",
      "Validation accuracy: 87.0%\n",
      "Test accuracy: 93.6%\n"
     ]
    }
   ],
   "source": [
    "batch_size = 128\n",
    "beta = 0.001\n",
    "num_steps = 3001 * 2\n",
    "decay_step=500\n",
    "decay_rate=0.98\n",
    "\n",
    "run_decay_nn_sgd_l2_dropout(batch_size, beta, num_steps, decay_step, decay_rate)"
   ]
  },
  {
   "cell_type": "code",
   "execution_count": 240,
   "metadata": {},
   "outputs": [],
   "source": [
    "#multi layer nn\n",
    "def run_decay_mlayer_nn_sgd_l2(batch_size, beta, num_steps, lr_initial, lr_deacy_steps, lr_decay_rate, hidden_layers, is_dropout=True):\n",
    "    graph_nn = tf.Graph()\n",
    "    with graph_nn.as_default():\n",
    "        # Input data. For the training data, we use a placeholder that will be fed\n",
    "        # at run time with a training minibatch.\n",
    "        tf_train_dataset = tf.placeholder(tf.float32,\n",
    "                                            shape=(batch_size, image_size * image_size))\n",
    "        tf_train_labels = tf.placeholder(tf.float32, shape=(batch_size, num_labels))\n",
    "        tf_valid_dataset = tf.constant(valid_dataset)\n",
    "        tf_test_dataset = tf.constant(test_dataset)\n",
    "\n",
    "        \n",
    "        if type(hidden_layers) is not list:\n",
    "            hidden_layers = []\n",
    "        # Variables.\n",
    "        layers = [image_size * image_size] + hidden_layers + [num_labels]\n",
    "        weights = []\n",
    "        biases = []\n",
    "        \n",
    "        for idx, l in enumerate(layers):\n",
    "            if idx == len(layers) -1:\n",
    "                break\n",
    "            else:\n",
    "                weights.append(tf.Variable(tf.truncated_normal([layers[idx], layers[idx + 1]])))\n",
    "                biases.append(tf.Variable(tf.zeros([layers[idx + 1]])))\n",
    "\n",
    "        def forward_prop(input, weights, biases, apply_dropout=False):\n",
    "            if len(weights) != 1:\n",
    "                _logits = tf.nn.relu(tf.matmul(input, weights[0]) + biases[0])\n",
    "                if apply_dropout:\n",
    "                    _logits = tf.nn.dropout(_logits, 0.5)\n",
    "                return forward_prop(_logits, weights[1:], biases[1:], apply_dropout)\n",
    "            else:\n",
    "                return tf.matmul(input, weights[0]) + biases[0]\n",
    "            \n",
    "        \n",
    "        def get_regularization(beta, weights):\n",
    "            losses = [tf.nn.l2_loss(w) for w in weights]\n",
    "            return tf.add_n(losses) / len(weights) * beta\n",
    "                \n",
    "        \n",
    "        # Training computation.\n",
    "        logits = forward_prop(tf_train_dataset, weights, biases, is_dropout)\n",
    "        \n",
    "        loss = tf.reduce_mean(\n",
    "            tf.nn.softmax_cross_entropy_with_logits(\n",
    "                labels=tf_train_labels, logits=logits)) + get_regularization(beta, weights)\n",
    "\n",
    "        # Optimizer.\n",
    "        global_step = tf.Variable(0)  # count the number of steps taken.\n",
    "        learning_rate = tf.train.exponential_decay(lr_initial, global_step, lr_deacy_steps, lr_decay_rate)\n",
    "        optimizer = tf.train.GradientDescentOptimizer(learning_rate).minimize(loss, global_step=global_step)\n",
    "\n",
    "        # Predictions for the training, validation, and test data.\n",
    "        train_prediction = tf.nn.softmax(logits)\n",
    "        valid_prediction = tf.nn.softmax(forward_prop(tf_valid_dataset, weights, biases))\n",
    "        test_prediction = tf.nn.softmax(forward_prop(tf_test_dataset, weights, biases))\n",
    "        \n",
    "    #run it\n",
    "    with tf.Session(graph=graph_nn) as session:\n",
    "        tf.global_variables_initializer().run()\n",
    "        print(\"Initialized\")\n",
    "        for step in range(num_steps):\n",
    "            # Pick an offset within the training data, which has been randomized.\n",
    "            # Note: we could use better randomization across epochs.\n",
    "            offset = (step * batch_size) % (train_labels.shape[0] - batch_size)\n",
    "            # Generate a minibatch.\n",
    "            batch_data = train_dataset[offset:(offset + batch_size), :]\n",
    "            batch_labels = train_labels[offset:(offset + batch_size), :]\n",
    "            # Prepare a dictionary telling the session where to feed the minibatch.\n",
    "            # The key of the dictionary is the placeholder node of the graph to be fed,\n",
    "            # and the value is the numpy array to feed to it.\n",
    "            feed_dict = {tf_train_dataset : batch_data, tf_train_labels : batch_labels}\n",
    "            _, l, predictions = session.run(\n",
    "                [optimizer, loss, train_prediction], feed_dict=feed_dict)\n",
    "            \n",
    "            if (step % 500 == 0):\n",
    "                print(\"Minibatch loss at step %d: %f\" % (step, l))\n",
    "                print(\"Minibatch accuracy: %.1f%%\" % accuracy(predictions, batch_labels))\n",
    "                print(\"Validation accuracy: %.1f%%\" % accuracy(\n",
    "                    valid_prediction.eval(), valid_labels))\n",
    "                \n",
    "        print(\"Test accuracy: %.1f%%\" % accuracy(test_prediction.eval(), test_labels))\n"
   ]
  },
  {
   "cell_type": "code",
   "execution_count": 244,
   "metadata": {},
   "outputs": [
    {
     "name": "stdout",
     "output_type": "stream",
     "text": [
      "Initialized\n",
      "Minibatch loss at step 0: 671.171753\n",
      "Minibatch accuracy: 7.8%\n",
      "Validation accuracy: 31.6%\n",
      "Minibatch loss at step 500: 158.457306\n",
      "Minibatch accuracy: 72.7%\n",
      "Validation accuracy: 80.2%\n",
      "Minibatch loss at step 1000: 104.380592\n",
      "Minibatch accuracy: 74.2%\n",
      "Validation accuracy: 79.8%\n",
      "Minibatch loss at step 1500: 78.187340\n",
      "Minibatch accuracy: 84.4%\n",
      "Validation accuracy: 80.0%\n",
      "Minibatch loss at step 2000: 58.937981\n",
      "Minibatch accuracy: 81.2%\n",
      "Validation accuracy: 81.4%\n",
      "Minibatch loss at step 2500: 46.977081\n",
      "Minibatch accuracy: 79.7%\n",
      "Validation accuracy: 82.2%\n",
      "Minibatch loss at step 3000: 37.287144\n",
      "Minibatch accuracy: 78.9%\n",
      "Validation accuracy: 83.2%\n",
      "Minibatch loss at step 3500: 30.061758\n",
      "Minibatch accuracy: 81.2%\n",
      "Validation accuracy: 83.7%\n",
      "Minibatch loss at step 4000: 24.271507\n",
      "Minibatch accuracy: 81.2%\n",
      "Validation accuracy: 84.6%\n",
      "Minibatch loss at step 4500: 19.408957\n",
      "Minibatch accuracy: 85.2%\n",
      "Validation accuracy: 84.5%\n",
      "Minibatch loss at step 5000: 15.972607\n",
      "Minibatch accuracy: 83.6%\n",
      "Validation accuracy: 85.3%\n",
      "Minibatch loss at step 5500: 13.131853\n",
      "Minibatch accuracy: 81.2%\n",
      "Validation accuracy: 85.5%\n",
      "Minibatch loss at step 6000: 10.916110\n",
      "Minibatch accuracy: 81.2%\n",
      "Validation accuracy: 85.7%\n",
      "Minibatch loss at step 6500: 8.935444\n",
      "Minibatch accuracy: 82.8%\n",
      "Validation accuracy: 85.8%\n",
      "Minibatch loss at step 7000: 7.576542\n",
      "Minibatch accuracy: 79.7%\n",
      "Validation accuracy: 86.4%\n",
      "Minibatch loss at step 7500: 6.431714\n",
      "Minibatch accuracy: 81.2%\n",
      "Validation accuracy: 86.5%\n",
      "Minibatch loss at step 8000: 5.580773\n",
      "Minibatch accuracy: 81.2%\n",
      "Validation accuracy: 86.6%\n",
      "Minibatch loss at step 8500: 4.509809\n",
      "Minibatch accuracy: 87.5%\n",
      "Validation accuracy: 86.8%\n",
      "Minibatch loss at step 9000: 3.996837\n",
      "Minibatch accuracy: 85.9%\n",
      "Validation accuracy: 87.2%\n",
      "Test accuracy: 93.9%\n"
     ]
    }
   ],
   "source": [
    "hidden_layers = [1024]\n",
    "batch_size = 128\n",
    "beta = 0.001\n",
    "num_steps = 3001 * 3\n",
    "lr_initial=0.5\n",
    "lr_decay_step=500\n",
    "lr_decay_rate=0.98\n",
    "batch_size = 128\n",
    "run_decay_mlayer_nn_sgd_l2(batch_size, beta, num_steps, lr_initial, lr_decay_step, lr_decay_rate, hidden_layers, True)"
   ]
  },
  {
   "cell_type": "code",
   "execution_count": 243,
   "metadata": {},
   "outputs": [
    {
     "name": "stdout",
     "output_type": "stream",
     "text": [
      "Initialized\n",
      "Minibatch loss at step 0: 79137.296875\n",
      "Minibatch accuracy: 13.3%\n",
      "Validation accuracy: 38.5%\n",
      "Minibatch loss at step 500: 1.933796\n",
      "Minibatch accuracy: 60.2%\n",
      "Validation accuracy: 60.4%\n",
      "Minibatch loss at step 1000: 1.942253\n",
      "Minibatch accuracy: 62.5%\n",
      "Validation accuracy: 68.3%\n",
      "Minibatch loss at step 1500: 1.845820\n",
      "Minibatch accuracy: 65.6%\n",
      "Validation accuracy: 66.4%\n",
      "Minibatch loss at step 2000: 1.908276\n",
      "Minibatch accuracy: 67.2%\n",
      "Validation accuracy: 62.6%\n",
      "Minibatch loss at step 2500: 1.961326\n",
      "Minibatch accuracy: 66.4%\n",
      "Validation accuracy: 67.4%\n",
      "Minibatch loss at step 3000: 1.985622\n",
      "Minibatch accuracy: 64.1%\n",
      "Validation accuracy: 67.8%\n",
      "Minibatch loss at step 3500: 1.968703\n",
      "Minibatch accuracy: 68.0%\n",
      "Validation accuracy: 64.1%\n",
      "Minibatch loss at step 4000: 1.940827\n",
      "Minibatch accuracy: 58.6%\n",
      "Validation accuracy: 74.0%\n",
      "Minibatch loss at step 4500: 1.886110\n",
      "Minibatch accuracy: 65.6%\n",
      "Validation accuracy: 64.7%\n",
      "Minibatch loss at step 5000: 1.827527\n",
      "Minibatch accuracy: 75.8%\n",
      "Validation accuracy: 68.6%\n",
      "Minibatch loss at step 5500: 1.917732\n",
      "Minibatch accuracy: 66.4%\n",
      "Validation accuracy: 66.4%\n",
      "Minibatch loss at step 6000: 2.023403\n",
      "Minibatch accuracy: 58.6%\n",
      "Validation accuracy: 61.6%\n",
      "Minibatch loss at step 6500: 1.810753\n",
      "Minibatch accuracy: 71.1%\n",
      "Validation accuracy: 72.4%\n",
      "Minibatch loss at step 7000: 1.949576\n",
      "Minibatch accuracy: 64.8%\n",
      "Validation accuracy: 73.4%\n",
      "Minibatch loss at step 7500: 2.022390\n",
      "Minibatch accuracy: 58.6%\n",
      "Validation accuracy: 67.2%\n",
      "Minibatch loss at step 8000: 1.953422\n",
      "Minibatch accuracy: 65.6%\n",
      "Validation accuracy: 67.8%\n",
      "Minibatch loss at step 8500: 1.799515\n",
      "Minibatch accuracy: 71.1%\n",
      "Validation accuracy: 66.5%\n",
      "Minibatch loss at step 9000: 1.953129\n",
      "Minibatch accuracy: 64.8%\n",
      "Validation accuracy: 70.5%\n",
      "Minibatch loss at step 9500: 1.973906\n",
      "Minibatch accuracy: 65.6%\n",
      "Validation accuracy: 74.5%\n",
      "Test accuracy: 77.7%\n"
     ]
    }
   ],
   "source": [
    "hidden_layers = [1024]\n",
    "batch_size = 128\n",
    "beta = 0.5\n",
    "num_steps = 10000\n",
    "lr_initial=0.5\n",
    "lr_decay_step=1000\n",
    "lr_decay_rate=0.9\n",
    "batch_size = 128\n",
    "run_decay_mlayer_nn_sgd_l2(batch_size, beta, num_steps, lr_initial, lr_decay_step, lr_decay_rate, hidden_layers, True)"
   ]
  },
  {
   "cell_type": "code",
   "execution_count": null,
   "metadata": {
    "collapsed": true
   },
   "outputs": [],
   "source": []
  }
 ],
 "metadata": {
  "colab": {
   "default_view": {},
   "name": "3_regularization.ipynb",
   "provenance": [],
   "version": "0.3.2",
   "views": {}
  },
  "kernelspec": {
   "display_name": "Python 3",
   "language": "python",
   "name": "python3"
  },
  "language_info": {
   "codemirror_mode": {
    "name": "ipython",
    "version": 3
   },
   "file_extension": ".py",
   "mimetype": "text/x-python",
   "name": "python",
   "nbconvert_exporter": "python",
   "pygments_lexer": "ipython3",
   "version": "3.5.3"
  }
 },
 "nbformat": 4,
 "nbformat_minor": 1
}
